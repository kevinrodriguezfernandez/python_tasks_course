{
 "cells": [
  {
   "cell_type": "markdown",
   "id": "04db6aaa",
   "metadata": {},
   "source": [
    "Task 1: \n",
    "\n",
    "Write code for Open a file named \"grades.txt\" in append mode. Prompt the user to enter a student's name and their grade. Write the student's name and grade to the file on same lines. Repeat this process for multiple students untill user mention \"q\" in the student name prompt"
   ]
  },
  {
   "cell_type": "code",
   "execution_count": 20,
   "id": "f595f491",
   "metadata": {},
   "outputs": [
    {
     "name": "stdout",
     "output_type": "stream",
     "text": [
      "Enter student name (enter 'q' to quit): Jose\n",
      "Jose\n",
      "Enter the grade of the studentF\n",
      "Student added!\n",
      "Enter student name (enter 'q' to quit): Manuel\n",
      "Manuel\n",
      "Enter the grade of the studentC\n",
      "Student added!\n",
      "Enter student name (enter 'q' to quit): q\n",
      "q\n",
      "Database closed\n"
     ]
    }
   ],
   "source": [
    "file_path = \"grades.txt\"\n",
    "\n",
    "while True:\n",
    "    student_name=input(\"Enter student name (enter 'q' to quit): \")\n",
    "    if student_name == \"q\":\n",
    "        print(\"Database closed\")\n",
    "        break\n",
    "    else:\n",
    "        student_grade=input(\"Enter the grade of the student\")\n",
    "        with open(file_path, \"a\") as file:\n",
    "            file.write(f\"Student: {student_name}, Grade: {student_grade}\\n\")\n",
    "            print(\"Student added!\")\n",
    "\n"
   ]
  },
  {
   "cell_type": "markdown",
   "id": "146f6789",
   "metadata": {},
   "source": [
    "Task 2:\n",
    "\n",
    "write code for Open a file named \"employee_data.txt\" in append mode. Prompt the user to enter the employee name , salary, experience, distance of there home from office untill we press q in the employee name. and then read the file and print out employee's distance from office to home who is having the highest salary."
   ]
  },
  {
   "cell_type": "code",
   "execution_count": 67,
   "id": "1c47d2a9",
   "metadata": {},
   "outputs": [
    {
     "name": "stdout",
     "output_type": "stream",
     "text": [
      "Use (,) as delimiter to separate the following:\n",
      "Sample: Kevin, 4000, 5, 30\n",
      "Enter your employee name , salary, experience, distance of there home from office (enter 'q' to quit): Sabi,100000,2,10\n",
      "Employee added!\n",
      "Use (,) as delimiter to separate the following:\n",
      "Sample: Kevin, 4000, 5, 30\n",
      "Enter your employee name , salary, experience, distance of there home from office (enter 'q' to quit): q\n",
      "Database closed\n",
      "{2: 500, 3000: 200, 30000: 90, 80000: 100, 100000: 10}\n",
      "The highest distance of the employee better paid is 10 Km\n"
     ]
    }
   ],
   "source": [
    "file_path = \"employee_data.txt\"\n",
    "\n",
    "def read_file_and_return_distance_highest_salary():\n",
    "    with open(file_path,\"r\") as file:\n",
    "        dictionarium={}\n",
    "        \n",
    "        lines = file.readlines()\n",
    "        for line in lines:\n",
    "            split_line = line.split(', ')\n",
    "            salary = int(split_line[1].split(': ')[1])\n",
    "            distance = int(split_line[3].split(': ')[1])           \n",
    "            dictionarium[salary] = distance\n",
    "            \n",
    "        print(dictionarium)\n",
    "        max_key = max(dictionarium)    \n",
    "        print(f\"The highest distance of the employee better paid is {dictionarium[max_key]} Km\")    \n",
    "\n",
    "while True:\n",
    "    print(\"Use (,) as delimiter to separate the following:\")\n",
    "    print(\"Sample: Kevin, 4000, 5, 30\")\n",
    "    employee_data=input(\"Enter your employee name , salary, experience, distance of there home from office (enter 'q' to quit): \").split(\",\")\n",
    "    \n",
    "    if \"q\" in employee_data:\n",
    "        print(\"Database closed\")\n",
    "        read_file_and_return_distance_highest_salary()\n",
    "        break\n",
    "    name,salary,experience,distance= employee_data\n",
    "    \n",
    "    with open(file_path, \"a\") as file:\n",
    "            file.write(f\"Employee: {name}, Salary: {salary}, Experience: {experience}, Distance: {distance}\\n\")\n",
    "            print(\"Employee added!\")\n"
   ]
  },
  {
   "cell_type": "code",
   "execution_count": null,
   "id": "c17c4656",
   "metadata": {},
   "outputs": [],
   "source": []
  },
  {
   "cell_type": "code",
   "execution_count": null,
   "id": "e9f69d15",
   "metadata": {},
   "outputs": [],
   "source": []
  }
 ],
 "metadata": {
  "kernelspec": {
   "display_name": "Python 3 (ipykernel)",
   "language": "python",
   "name": "python3"
  },
  "language_info": {
   "codemirror_mode": {
    "name": "ipython",
    "version": 3
   },
   "file_extension": ".py",
   "mimetype": "text/x-python",
   "name": "python",
   "nbconvert_exporter": "python",
   "pygments_lexer": "ipython3",
   "version": "3.10.9"
  }
 },
 "nbformat": 4,
 "nbformat_minor": 5
}
